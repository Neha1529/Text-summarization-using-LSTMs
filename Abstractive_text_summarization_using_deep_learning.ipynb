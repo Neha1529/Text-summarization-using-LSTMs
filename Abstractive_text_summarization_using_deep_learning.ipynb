{
  "nbformat": 4,
  "nbformat_minor": 0,
  "metadata": {
    "colab": {
      "name": "Abstractive text summarization using deep learning.ipynb",
      "provenance": [],
      "collapsed_sections": []
    },
    "kernelspec": {
      "name": "python3",
      "display_name": "Python 3"
    },
    "accelerator": "GPU"
  },
  "cells": [
    {
      "cell_type": "code",
      "metadata": {
        "id": "8fCfGNdgTJop"
      },
      "source": [
        "# import libraries\r\n",
        "import numpy as np\r\n",
        "import pandas as pd\r\n",
        "import re\r\n",
        "from bs4 import BeautifulSoup\r\n",
        "from keras.preprocessing.text import Tokenizer\r\n",
        "from keras.preprocessing.sequence import pad_sequences\r\n",
        "from nltk.corpus import stopwords\r\n",
        "from tensorflow.keras.layers import Input, LSTM , Embedding , Dense, Concatenate ,TimeDistributed\r\n",
        "from tensorflow.keras.models import  Model\r\n",
        "from tensorflow.keras.callbacks import EarlyStopping\r\n",
        "import warnings\r\n",
        "warnings.filterwarnings(\"ignore\")"
      ],
      "execution_count": 1,
      "outputs": []
    },
    {
      "cell_type": "code",
      "metadata": {
        "id": "9AZKstcSTjc2"
      },
      "source": [
        "#read the dataset\r\n",
        "data = pd.read_csv(\"/content/drive/MyDrive/Reviews.csv\",nrows=100000)\r\n"
      ],
      "execution_count": 2,
      "outputs": []
    },
    {
      "cell_type": "code",
      "metadata": {
        "id": "GhKS7wJTQWQg",
        "colab": {
          "base_uri": "https://localhost:8080/",
          "height": 313
        },
        "outputId": "2e5534bf-4fc9-4b8a-c182-66d514f1b231"
      },
      "source": [
        "data.head()"
      ],
      "execution_count": 3,
      "outputs": [
        {
          "output_type": "execute_result",
          "data": {
            "text/html": [
              "<div>\n",
              "<style scoped>\n",
              "    .dataframe tbody tr th:only-of-type {\n",
              "        vertical-align: middle;\n",
              "    }\n",
              "\n",
              "    .dataframe tbody tr th {\n",
              "        vertical-align: top;\n",
              "    }\n",
              "\n",
              "    .dataframe thead th {\n",
              "        text-align: right;\n",
              "    }\n",
              "</style>\n",
              "<table border=\"1\" class=\"dataframe\">\n",
              "  <thead>\n",
              "    <tr style=\"text-align: right;\">\n",
              "      <th></th>\n",
              "      <th>Id</th>\n",
              "      <th>ProductId</th>\n",
              "      <th>UserId</th>\n",
              "      <th>ProfileName</th>\n",
              "      <th>HelpfulnessNumerator</th>\n",
              "      <th>HelpfulnessDenominator</th>\n",
              "      <th>Score</th>\n",
              "      <th>Time</th>\n",
              "      <th>Summary</th>\n",
              "      <th>Text</th>\n",
              "    </tr>\n",
              "  </thead>\n",
              "  <tbody>\n",
              "    <tr>\n",
              "      <th>0</th>\n",
              "      <td>1</td>\n",
              "      <td>B001E4KFG0</td>\n",
              "      <td>A3SGXH7AUHU8GW</td>\n",
              "      <td>delmartian</td>\n",
              "      <td>1</td>\n",
              "      <td>1</td>\n",
              "      <td>5</td>\n",
              "      <td>1303862400</td>\n",
              "      <td>Good Quality Dog Food</td>\n",
              "      <td>I have bought several of the Vitality canned d...</td>\n",
              "    </tr>\n",
              "    <tr>\n",
              "      <th>1</th>\n",
              "      <td>2</td>\n",
              "      <td>B00813GRG4</td>\n",
              "      <td>A1D87F6ZCVE5NK</td>\n",
              "      <td>dll pa</td>\n",
              "      <td>0</td>\n",
              "      <td>0</td>\n",
              "      <td>1</td>\n",
              "      <td>1346976000</td>\n",
              "      <td>Not as Advertised</td>\n",
              "      <td>Product arrived labeled as Jumbo Salted Peanut...</td>\n",
              "    </tr>\n",
              "    <tr>\n",
              "      <th>2</th>\n",
              "      <td>3</td>\n",
              "      <td>B000LQOCH0</td>\n",
              "      <td>ABXLMWJIXXAIN</td>\n",
              "      <td>Natalia Corres \"Natalia Corres\"</td>\n",
              "      <td>1</td>\n",
              "      <td>1</td>\n",
              "      <td>4</td>\n",
              "      <td>1219017600</td>\n",
              "      <td>\"Delight\" says it all</td>\n",
              "      <td>This is a confection that has been around a fe...</td>\n",
              "    </tr>\n",
              "    <tr>\n",
              "      <th>3</th>\n",
              "      <td>4</td>\n",
              "      <td>B000UA0QIQ</td>\n",
              "      <td>A395BORC6FGVXV</td>\n",
              "      <td>Karl</td>\n",
              "      <td>3</td>\n",
              "      <td>3</td>\n",
              "      <td>2</td>\n",
              "      <td>1307923200</td>\n",
              "      <td>Cough Medicine</td>\n",
              "      <td>If you are looking for the secret ingredient i...</td>\n",
              "    </tr>\n",
              "    <tr>\n",
              "      <th>4</th>\n",
              "      <td>5</td>\n",
              "      <td>B006K2ZZ7K</td>\n",
              "      <td>A1UQRSCLF8GW1T</td>\n",
              "      <td>Michael D. Bigham \"M. Wassir\"</td>\n",
              "      <td>0</td>\n",
              "      <td>0</td>\n",
              "      <td>5</td>\n",
              "      <td>1350777600</td>\n",
              "      <td>Great taffy</td>\n",
              "      <td>Great taffy at a great price.  There was a wid...</td>\n",
              "    </tr>\n",
              "  </tbody>\n",
              "</table>\n",
              "</div>"
            ],
            "text/plain": [
              "   Id  ...                                               Text\n",
              "0   1  ...  I have bought several of the Vitality canned d...\n",
              "1   2  ...  Product arrived labeled as Jumbo Salted Peanut...\n",
              "2   3  ...  This is a confection that has been around a fe...\n",
              "3   4  ...  If you are looking for the secret ingredient i...\n",
              "4   5  ...  Great taffy at a great price.  There was a wid...\n",
              "\n",
              "[5 rows x 10 columns]"
            ]
          },
          "metadata": {
            "tags": []
          },
          "execution_count": 3
        }
      ]
    },
    {
      "cell_type": "code",
      "metadata": {
        "id": "ibUFcIXCQZAg"
      },
      "source": [
        "#drop duplicates and NA values\r\n",
        "\r\n",
        "data.drop_duplicates(['Text'],inplace=True)\r\n",
        "data.dropna(axis=0,inplace=True)"
      ],
      "execution_count": 4,
      "outputs": []
    },
    {
      "cell_type": "code",
      "metadata": {
        "id": "31HLFkDARBuy",
        "colab": {
          "base_uri": "https://localhost:8080/"
        },
        "outputId": "e9ef2124-e3bd-4b3b-ef6c-a4671cf7f5ef"
      },
      "source": [
        "data.info()"
      ],
      "execution_count": 5,
      "outputs": [
        {
          "output_type": "stream",
          "text": [
            "<class 'pandas.core.frame.DataFrame'>\n",
            "Int64Index: 88421 entries, 0 to 99999\n",
            "Data columns (total 10 columns):\n",
            " #   Column                  Non-Null Count  Dtype \n",
            "---  ------                  --------------  ----- \n",
            " 0   Id                      88421 non-null  int64 \n",
            " 1   ProductId               88421 non-null  object\n",
            " 2   UserId                  88421 non-null  object\n",
            " 3   ProfileName             88421 non-null  object\n",
            " 4   HelpfulnessNumerator    88421 non-null  int64 \n",
            " 5   HelpfulnessDenominator  88421 non-null  int64 \n",
            " 6   Score                   88421 non-null  int64 \n",
            " 7   Time                    88421 non-null  int64 \n",
            " 8   Summary                 88421 non-null  object\n",
            " 9   Text                    88421 non-null  object\n",
            "dtypes: int64(5), object(5)\n",
            "memory usage: 7.4+ MB\n"
          ],
          "name": "stdout"
        }
      ]
    },
    {
      "cell_type": "code",
      "metadata": {
        "id": "FSJCSCi5RDHM"
      },
      "source": [
        "# contraction mapping\r\n",
        "\r\n",
        "contraction_mapping = {\"ain't\": \"is not\", \"aren't\": \"are not\",\"can't\": \"cannot\", \"'cause\": \"because\", \"could've\": \"could have\", \"couldn't\": \"could not\",\r\n",
        "                           \"didn't\": \"did not\",  \"doesn't\": \"does not\", \"don't\": \"do not\", \"hadn't\": \"had not\", \"hasn't\": \"has not\", \"haven't\": \"have not\",\r\n",
        "                           \"he'd\": \"he would\",\"he'll\": \"he will\", \"he's\": \"he is\", \"how'd\": \"how did\", \"how'd'y\": \"how do you\", \"how'll\": \"how will\", \"how's\": \"how is\",\r\n",
        "                           \"I'd\": \"I would\", \"I'd've\": \"I would have\", \"I'll\": \"I will\", \"I'll've\": \"I will have\",\"I'm\": \"I am\", \"I've\": \"I have\", \"i'd\": \"i would\",\r\n",
        "                           \"i'd've\": \"i would have\", \"i'll\": \"i will\",  \"i'll've\": \"i will have\",\"i'm\": \"i am\", \"i've\": \"i have\", \"isn't\": \"is not\", \"it'd\": \"it would\",\r\n",
        "                           \"it'd've\": \"it would have\", \"it'll\": \"it will\", \"it'll've\": \"it will have\",\"it's\": \"it is\", \"let's\": \"let us\", \"ma'am\": \"madam\",\r\n",
        "                           \"mayn't\": \"may not\", \"might've\": \"might have\",\"mightn't\": \"might not\",\"mightn't've\": \"might not have\", \"must've\": \"must have\",\r\n",
        "                           \"mustn't\": \"must not\", \"mustn't've\": \"must not have\", \"needn't\": \"need not\", \"needn't've\": \"need not have\",\"o'clock\": \"of the clock\",\r\n",
        "                           \"oughtn't\": \"ought not\", \"oughtn't've\": \"ought not have\", \"shan't\": \"shall not\", \"sha'n't\": \"shall not\", \"shan't've\": \"shall not have\",\r\n",
        "                           \"she'd\": \"she would\", \"she'd've\": \"she would have\", \"she'll\": \"she will\", \"she'll've\": \"she will have\", \"she's\": \"she is\",\r\n",
        "                           \"should've\": \"should have\", \"shouldn't\": \"should not\", \"shouldn't've\": \"should not have\", \"so've\": \"so have\",\"so's\": \"so as\",\r\n",
        "                           \"this's\": \"this is\",\"that'd\": \"that would\", \"that'd've\": \"that would have\", \"that's\": \"that is\", \"there'd\": \"there would\",\r\n",
        "                           \"there'd've\": \"there would have\", \"there's\": \"there is\", \"here's\": \"here is\",\"they'd\": \"they would\", \"they'd've\": \"they would have\",\r\n",
        "                           \"they'll\": \"they will\", \"they'll've\": \"they will have\", \"they're\": \"they are\", \"they've\": \"they have\", \"to've\": \"to have\",\r\n",
        "                           \"wasn't\": \"was not\", \"we'd\": \"we would\", \"we'd've\": \"we would have\", \"we'll\": \"we will\", \"we'll've\": \"we will have\", \"we're\": \"we are\",\r\n",
        "                           \"we've\": \"we have\", \"weren't\": \"were not\", \"what'll\": \"what will\", \"what'll've\": \"what will have\", \"what're\": \"what are\",\r\n",
        "                           \"what's\": \"what is\", \"what've\": \"what have\", \"when's\": \"when is\", \"when've\": \"when have\", \"where'd\": \"where did\", \"where's\": \"where is\",\r\n",
        "                           \"where've\": \"where have\", \"who'll\": \"who will\", \"who'll've\": \"who will have\", \"who's\": \"who is\", \"who've\": \"who have\",\r\n",
        "                           \"why's\": \"why is\", \"why've\": \"why have\", \"will've\": \"will have\", \"won't\": \"will not\", \"won't've\": \"will not have\",\r\n",
        "                           \"would've\": \"would have\", \"wouldn't\": \"would not\", \"wouldn't've\": \"would not have\", \"y'all\": \"you all\",\r\n",
        "                           \"y'all'd\": \"you all would\",\"y'all'd've\": \"you all would have\",\"y'all're\": \"you all are\",\"y'all've\": \"you all have\",\r\n",
        "                           \"you'd\": \"you would\", \"you'd've\": \"you would have\", \"you'll\": \"you will\", \"you'll've\": \"you will have\",\r\n",
        "                           \"you're\": \"you are\", \"you've\": \"you have\"}"
      ],
      "execution_count": 6,
      "outputs": []
    },
    {
      "cell_type": "markdown",
      "metadata": {
        "id": "iMv091v9R3Or"
      },
      "source": [
        "**Preprocessing tasks**\r\n",
        "1. Remove HTML tags\r\n",
        "2. Convert into Lowercase\r\n",
        "3. Contraction mapping\r\n",
        "4. Remove 's\r\n",
        "5. Remove special characters and punctuations\r\n",
        "6. Remove stopwords,shortforms,any text within parenthesis\r\n"
      ]
    },
    {
      "cell_type": "code",
      "metadata": {
        "id": "sV2Xl6sXRyR9",
        "colab": {
          "base_uri": "https://localhost:8080/"
        },
        "outputId": "7db8b9a3-a427-4242-8d15-c32bf4fb6d24"
      },
      "source": [
        "# text cleaning\r\n",
        "import nltk\r\n",
        "nltk.download('stopwords')\r\n",
        "stop_words = set(stopwords.words('english'))\r\n",
        "\r\n",
        "def text_cleaner(text,num):\r\n",
        "  new_string = text.lower()\r\n",
        "  new_string = BeautifulSoup(new_string , \"lxml\").text\r\n",
        "  new_string = re.sub(r'\\([^)]*\\)', '', new_string)\r\n",
        "  new_string = re.sub('\"','',new_string)\r\n",
        "  new_string = ' '.join([contraction_mapping[t] if t in contraction_mapping else t for t in new_string.split(\" \")])\r\n",
        "  new_string = re.sub(r\"'s\\b\",\"\",new_string)\r\n",
        "  new_string = re.sub(\"[^a-zA-Z]\",\" \",new_string)\r\n",
        "  new_string = re.sub('[m]{2,}','mm',new_string)\r\n",
        "  if num == 0:\r\n",
        "    tokens = [w for w in new_string.split() if not w in stop_words]\r\n",
        "  else:\r\n",
        "    tokens = new_string.split()\r\n",
        "  long_words = []\r\n",
        "  for i in tokens:\r\n",
        "    if len(i)> 1:\r\n",
        "      long_words.append(i)\r\n",
        "  return(\" \".join(long_words)).strip()"
      ],
      "execution_count": 7,
      "outputs": [
        {
          "output_type": "stream",
          "text": [
            "[nltk_data] Downloading package stopwords to /root/nltk_data...\n",
            "[nltk_data]   Package stopwords is already up-to-date!\n"
          ],
          "name": "stdout"
        }
      ]
    },
    {
      "cell_type": "code",
      "metadata": {
        "id": "iBNRu4UQKNch"
      },
      "source": [
        "cleaned_text = []\r\n",
        "for t in data['Text']:\r\n",
        "    cleaned_text.append(text_cleaner(t,0))"
      ],
      "execution_count": 8,
      "outputs": []
    },
    {
      "cell_type": "code",
      "metadata": {
        "id": "9m3v2c28Su6m",
        "colab": {
          "base_uri": "https://localhost:8080/"
        },
        "outputId": "5993d097-8f9a-4408-d7d7-287317b12f17"
      },
      "source": [
        "pd.set_option(\"display.max_colwidth\", 200)\r\n",
        "cleaned_text[:5]\r\n"
      ],
      "execution_count": 9,
      "outputs": [
        {
          "output_type": "execute_result",
          "data": {
            "text/plain": [
              "['bought several vitality canned dog food products found good quality product looks like stew processed meat smells better labrador finicky appreciates product better',\n",
              " 'product arrived labeled jumbo salted peanuts peanuts actually small sized unsalted sure error vendor intended represent product jumbo',\n",
              " 'confection around centuries light pillowy citrus gelatin nuts case filberts cut tiny squares liberally coated powdered sugar tiny mouthful heaven chewy flavorful highly recommend yummy treat familiar story lewis lion witch wardrobe treat seduces edmund selling brother sisters witch',\n",
              " 'looking secret ingredient robitussin believe found got addition root beer extract ordered made cherry soda flavor medicinal',\n",
              " 'great taffy great price wide assortment yummy taffy delivery quick taffy lover deal']"
            ]
          },
          "metadata": {
            "tags": []
          },
          "execution_count": 9
        }
      ]
    },
    {
      "cell_type": "code",
      "metadata": {
        "id": "868ej-ZHYcsA"
      },
      "source": [
        "cleaned_summary=[]\r\n",
        "for t in data['Summary']:\r\n",
        "    cleaned_summary.append(text_cleaner(t,1))"
      ],
      "execution_count": 10,
      "outputs": []
    },
    {
      "cell_type": "code",
      "metadata": {
        "id": "vixI_5OHXu3C",
        "colab": {
          "base_uri": "https://localhost:8080/"
        },
        "outputId": "d30a06ab-13f6-4669-b3d8-44462ab9750f"
      },
      "source": [
        "cleaned_summary[:10]"
      ],
      "execution_count": 11,
      "outputs": [
        {
          "output_type": "execute_result",
          "data": {
            "text/plain": [
              "['good quality dog food',\n",
              " 'not as advertised',\n",
              " 'delight says it all',\n",
              " 'cough medicine',\n",
              " 'great taffy',\n",
              " 'nice taffy',\n",
              " 'great just as good as the expensive brands',\n",
              " 'wonderful tasty taffy',\n",
              " 'yay barley',\n",
              " 'healthy dog food']"
            ]
          },
          "metadata": {
            "tags": []
          },
          "execution_count": 11
        }
      ]
    },
    {
      "cell_type": "code",
      "metadata": {
        "id": "5eodzfuBYtZu"
      },
      "source": [
        "data['cleaned_text'] = cleaned_text\r\n",
        "data['cleaned_summary'] = cleaned_summary"
      ],
      "execution_count": 12,
      "outputs": []
    },
    {
      "cell_type": "markdown",
      "metadata": {
        "id": "nN9DPLSpY-ec"
      },
      "source": [
        "Drop empty rows"
      ]
    },
    {
      "cell_type": "code",
      "metadata": {
        "id": "85zaYhMyY7X0"
      },
      "source": [
        "data.replace(' ',np.nan,inplace=True)\r\n",
        "data.dropna(axis=0,inplace=True)"
      ],
      "execution_count": 13,
      "outputs": []
    },
    {
      "cell_type": "markdown",
      "metadata": {
        "id": "QWsByekFZhMH"
      },
      "source": [
        "Analyzing length of text and summary"
      ]
    },
    {
      "cell_type": "code",
      "metadata": {
        "id": "VY_Mq0XOZaQf",
        "colab": {
          "base_uri": "https://localhost:8080/",
          "height": 281
        },
        "outputId": "34684d34-6eda-456a-b58c-6d992aed8344"
      },
      "source": [
        "import matplotlib.pyplot as plt\r\n",
        "\r\n",
        "text_word_count = []\r\n",
        "summary_word_count = []\r\n",
        "\r\n",
        "# populate the lists with sentence lengths\r\n",
        "for i in data['cleaned_text']:\r\n",
        "      text_word_count.append(len(i.split()))\r\n",
        "\r\n",
        "for i in data['cleaned_summary']:\r\n",
        "      summary_word_count.append(len(i.split()))\r\n",
        "\r\n",
        "length_df = pd.DataFrame({'text':text_word_count, 'summary':summary_word_count})\r\n",
        "\r\n",
        "length_df.hist(bins = 30)\r\n",
        "plt.show()"
      ],
      "execution_count": 14,
      "outputs": [
        {
          "output_type": "display_data",
          "data": {
            "image/png": "[encoded data removed]",
            "text/plain": [
              "<Figure size 432x288 with 2 Axes>"
            ]
          },
          "metadata": {
            "tags": [],
            "needs_background": "light"
          }
        }
      ]
    },
    {
      "cell_type": "markdown",
      "metadata": {
        "id": "ZQF85v30iI6o"
      },
      "source": [
        "As it can be inferred,length of summary can be set at 8. "
      ]
    },
    {
      "cell_type": "code",
      "metadata": {
        "id": "z9FKoW21c7Ni",
        "colab": {
          "base_uri": "https://localhost:8080/"
        },
        "outputId": "f3751019-8ca6-43a8-fea1-62dec72b6f89"
      },
      "source": [
        "# calculating the proportion of summaries below length 8\r\n",
        "count = 0\r\n",
        "for i in data['cleaned_summary']:\r\n",
        "  if(len(i.split())<=8):\r\n",
        "        count=count+1\r\n",
        "print(count/len(data['cleaned_summary']))"
      ],
      "execution_count": 15,
      "outputs": [
        {
          "output_type": "stream",
          "text": [
            "0.9425362753192115\n"
          ],
          "name": "stdout"
        }
      ]
    },
    {
      "cell_type": "markdown",
      "metadata": {
        "id": "x4D3wiNdjDS-"
      },
      "source": [
        "Around 94% of the summaries have lenght below 8."
      ]
    },
    {
      "cell_type": "code",
      "metadata": {
        "id": "oIZm7-N8i9xc"
      },
      "source": [
        "max_text_len = 30\r\n",
        "max_summary_len = 8"
      ],
      "execution_count": 16,
      "outputs": []
    },
    {
      "cell_type": "code",
      "metadata": {
        "id": "Sa48JwEujcYi"
      },
      "source": [
        "# Selecting reviews which are shorter than or equal to max_text_len and max_summary len\r\n",
        "cleaned_text =np.array(data['cleaned_text'])\r\n",
        "cleaned_summary=np.array(data['cleaned_summary'])\r\n",
        "\r\n",
        "short_text=[]\r\n",
        "short_summary=[]\r\n",
        "\r\n",
        "for i in range(len(cleaned_text)):\r\n",
        "    if(len(cleaned_summary[i].split())<=max_summary_len and len(cleaned_text[i].split())<=max_text_len):\r\n",
        "        short_text.append(cleaned_text[i])\r\n",
        "        short_summary.append(cleaned_summary[i])\r\n",
        "        \r\n",
        "df=pd.DataFrame({'text':short_text,'summary':short_summary})"
      ],
      "execution_count": 17,
      "outputs": []
    },
    {
      "cell_type": "code",
      "metadata": {
        "id": "EI-8IByqmbq0"
      },
      "source": [
        "# adding START and END token to summary\r\n",
        "\r\n",
        "df['summary'] = df['summary'].apply(lambda x : 'sostok ' + x + ' eostok')"
      ],
      "execution_count": 18,
      "outputs": []
    },
    {
      "cell_type": "code",
      "metadata": {
        "id": "u5xp2B9fm_MN"
      },
      "source": [
        "# splitting training and test data set\r\n",
        "\r\n",
        "from sklearn.model_selection import train_test_split\r\n",
        "x_tr,x_val,y_tr,y_val=train_test_split(np.array(df['text']),np.array(df['summary']),test_size=0.1,random_state=0,shuffle=True)"
      ],
      "execution_count": 19,
      "outputs": []
    },
    {
      "cell_type": "markdown",
      "metadata": {
        "id": "cEPQfeRtnriL"
      },
      "source": [
        "**Tokenizer for Text**"
      ]
    },
    {
      "cell_type": "code",
      "metadata": {
        "id": "xUhpA-MVnQhR"
      },
      "source": [
        "# preparing tokenizer on training data\r\n",
        "\r\n",
        "x_tokenizer = Tokenizer()\r\n",
        "x_tokenizer.fit_on_texts(list(x_tr))"
      ],
      "execution_count": 20,
      "outputs": []
    },
    {
      "cell_type": "code",
      "metadata": {
        "id": "Q4iaJTAcoHu1",
        "colab": {
          "base_uri": "https://localhost:8080/"
        },
        "outputId": "449bcdeb-39ca-4aa7-ed72-6b05a79874c8"
      },
      "source": [
        "# Finding rare words and their proportion\r\n",
        "\r\n",
        "thresh=4\r\n",
        "\r\n",
        "cnt=0       # count of rare words\r\n",
        "tot_cnt=0   # counts total unique words\r\n",
        "freq=0      # frequency of rare words\r\n",
        "tot_freq=0    # total occurences of words\r\n",
        "\r\n",
        "for key,value in x_tokenizer.word_counts.items():\r\n",
        "    tot_cnt=tot_cnt+1\r\n",
        "    tot_freq=tot_freq+value\r\n",
        "    if(value<thresh):\r\n",
        "        cnt=cnt+1\r\n",
        "        freq=freq+value\r\n",
        "   \r\n",
        "print(cnt)\r\n",
        "print(tot_cnt)\r\n",
        "print(freq)\r\n",
        "print(tot_freq)\r\n",
        "print(\"% of rare words in vocabulary:\",(cnt/tot_cnt)*100)\r\n",
        "print(\"Total Coverage of rare words:\",(freq/tot_freq)*100)"
      ],
      "execution_count": 21,
      "outputs": [
        {
          "output_type": "stream",
          "text": [
            "16456\n",
            "24870\n",
            "22783\n",
            "771563\n",
            "% of rare words in vocabulary: 66.16807398472055\n",
            "Total Coverage of rare words: 2.952837292612528\n"
          ],
          "name": "stdout"
        }
      ]
    },
    {
      "cell_type": "code",
      "metadata": {
        "id": "uR1GB7Mskkd9"
      },
      "source": [
        "# top most common words\r\n",
        "\r\n",
        "num_words = tot_cnt - cnt"
      ],
      "execution_count": 22,
      "outputs": []
    },
    {
      "cell_type": "code",
      "metadata": {
        "id": "JfP_r_pim16_"
      },
      "source": [
        "#prepare a tokenizer for reviews on training data\r\n",
        "x_tokenizer = Tokenizer(num_words) \r\n",
        "x_tokenizer.fit_on_texts(list(x_tr))\r\n",
        "\r\n",
        "\r\n",
        "#convert text sequences into integer sequences\r\n",
        "x_tr_seq    =   x_tokenizer.texts_to_sequences(x_tr) \r\n",
        "x_val_seq   =   x_tokenizer.texts_to_sequences(x_val)\r\n",
        "\r\n",
        "#padding zero upto maximum length\r\n",
        "x_tr    =   pad_sequences(x_tr_seq,  maxlen=max_text_len, padding='post')\r\n",
        "x_val   =   pad_sequences(x_val_seq, maxlen=max_text_len, padding='post')\r\n",
        "\r\n",
        "#size of vocabulary ( +1 for padding token)\r\n",
        "x_voc   =  x_tokenizer.num_words + 1"
      ],
      "execution_count": 23,
      "outputs": []
    },
    {
      "cell_type": "code",
      "metadata": {
        "id": "CLwg-gaqm_ko",
        "colab": {
          "base_uri": "https://localhost:8080/"
        },
        "outputId": "4b5fc71b-245e-44a9-92be-5f7c50cc8537"
      },
      "source": [
        "x_voc"
      ],
      "execution_count": 24,
      "outputs": [
        {
          "output_type": "execute_result",
          "data": {
            "text/plain": [
              "8415"
            ]
          },
          "metadata": {
            "tags": []
          },
          "execution_count": 24
        }
      ]
    },
    {
      "cell_type": "markdown",
      "metadata": {
        "id": "jhLyLwqzn0P6"
      },
      "source": [
        "**Summary Tokenizer**"
      ]
    },
    {
      "cell_type": "code",
      "metadata": {
        "id": "y8lpWj-GnL_V"
      },
      "source": [
        "#prepare a tokenizer for reviews on training data\r\n",
        "y_tokenizer = Tokenizer()   \r\n",
        "y_tokenizer.fit_on_texts(list(y_tr))"
      ],
      "execution_count": 25,
      "outputs": []
    },
    {
      "cell_type": "code",
      "metadata": {
        "id": "1w6yaPl_n4Ud",
        "colab": {
          "base_uri": "https://localhost:8080/"
        },
        "outputId": "e0b5ad79-de50-4cab-a496-bb6c4becc2a2"
      },
      "source": [
        "# Rarewords in summary and their proportion\r\n",
        "\r\n",
        "thresh=6\r\n",
        "\r\n",
        "cnt=0\r\n",
        "tot_cnt=0\r\n",
        "freq=0\r\n",
        "tot_freq=0\r\n",
        "\r\n",
        "for key,value in y_tokenizer.word_counts.items():\r\n",
        "    tot_cnt=tot_cnt+1\r\n",
        "    tot_freq=tot_freq+value\r\n",
        "    if(value<thresh):\r\n",
        "        cnt=cnt+1\r\n",
        "        freq=freq+value\r\n",
        "    \r\n",
        "print(\"% of rare words in vocabulary:\",(cnt/tot_cnt)*100)\r\n",
        "print(\"Total Coverage of rare words:\",(freq/tot_freq)*100)"
      ],
      "execution_count": 26,
      "outputs": [
        {
          "output_type": "stream",
          "text": [
            "% of rare words in vocabulary: 78.0149647887324\n",
            "Total Coverage of rare words: 5.353699266844374\n"
          ],
          "name": "stdout"
        }
      ]
    },
    {
      "cell_type": "code",
      "metadata": {
        "id": "c_wSjbpEoGjv"
      },
      "source": [
        "# top most common words \r\n",
        "#prepare a tokenizer for reviews on training data\r\n",
        "y_tokenizer = Tokenizer(num_words=tot_cnt-cnt) \r\n",
        "y_tokenizer.fit_on_texts(list(y_tr))\r\n",
        "\r\n",
        "#convert text sequences into integer sequences\r\n",
        "y_tr_seq    =   y_tokenizer.texts_to_sequences(y_tr) \r\n",
        "y_val_seq   =   y_tokenizer.texts_to_sequences(y_val) \r\n",
        "\r\n",
        "#padding zero upto maximum length\r\n",
        "y_tr    =   pad_sequences(y_tr_seq, maxlen=max_summary_len, padding='post')\r\n",
        "y_val   =   pad_sequences(y_val_seq, maxlen=max_summary_len, padding='post')\r\n",
        "\r\n",
        "#size of vocabulary\r\n",
        "y_voc  =   y_tokenizer.num_words +1"
      ],
      "execution_count": 27,
      "outputs": []
    },
    {
      "cell_type": "code",
      "metadata": {
        "id": "g9QpnLOMoWRA",
        "colab": {
          "base_uri": "https://localhost:8080/"
        },
        "outputId": "c10015cf-b9cd-4c16-b40d-c7ca5750f67a"
      },
      "source": [
        "y_voc"
      ],
      "execution_count": 28,
      "outputs": [
        {
          "output_type": "execute_result",
          "data": {
            "text/plain": [
              "1999"
            ]
          },
          "metadata": {
            "tags": []
          },
          "execution_count": 28
        }
      ]
    },
    {
      "cell_type": "code",
      "metadata": {
        "id": "MLqt88MRoX9H",
        "colab": {
          "base_uri": "https://localhost:8080/"
        },
        "outputId": "c387a507-25a8-427e-e919-b79e58ff5615"
      },
      "source": [
        "y_tokenizer.word_counts['sostok'],len(y_tr)     # checking if word count of START token is equal to length of training data"
      ],
      "execution_count": 29,
      "outputs": [
        {
          "output_type": "execute_result",
          "data": {
            "text/plain": [
              "(42488, 42488)"
            ]
          },
          "metadata": {
            "tags": []
          },
          "execution_count": 29
        }
      ]
    },
    {
      "cell_type": "code",
      "metadata": {
        "id": "skOYMlz9odHx"
      },
      "source": [
        "# Deletion of rows that contain START and END tokens\r\n",
        "ind=[]\r\n",
        "for i in range(len(y_tr)):\r\n",
        "    cnt=0\r\n",
        "    for j in y_tr[i]:\r\n",
        "        if j!=0:\r\n",
        "            cnt=cnt+1\r\n",
        "    if(cnt==2):\r\n",
        "        ind.append(i)\r\n",
        "\r\n",
        "y_tr=np.delete(y_tr,ind, axis=0)\r\n",
        "x_tr=np.delete(x_tr,ind, axis=0)"
      ],
      "execution_count": 30,
      "outputs": []
    },
    {
      "cell_type": "code",
      "metadata": {
        "id": "2BU7zb_ppzrL"
      },
      "source": [
        "ind=[]\r\n",
        "for i in range(len(y_val)):\r\n",
        "    cnt=0\r\n",
        "    for j in y_val[i]:\r\n",
        "        if j!=0:\r\n",
        "            cnt=cnt+1\r\n",
        "    if(cnt==2):\r\n",
        "        ind.append(i)\r\n",
        "\r\n",
        "y_val=np.delete(y_val,ind, axis=0)\r\n",
        "x_val=np.delete(x_val,ind, axis=0)"
      ],
      "execution_count": 31,
      "outputs": []
    },
    {
      "cell_type": "markdown",
      "metadata": {
        "id": "5-lNM_3TrPIx"
      },
      "source": [
        "**Model Building**"
      ]
    },
    {
      "cell_type": "code",
      "metadata": {
        "id": "t9tP7BoEp2xH",
        "colab": {
          "base_uri": "https://localhost:8080/"
        },
        "outputId": "97fab9c5-e097-4b33-8c54-8ba3c4084634"
      },
      "source": [
        "from keras import backend as K \r\n",
        "K.clear_session()\r\n",
        "\r\n",
        "latent_dim = 300\r\n",
        "embedding_dim=100\r\n",
        "\r\n",
        "# Encoder\r\n",
        "encoder_inputs = Input(shape=(max_text_len,))\r\n",
        "\r\n",
        "#embedding layer\r\n",
        "enc_emb =  Embedding(x_voc, embedding_dim,trainable=True)(encoder_inputs)\r\n",
        "\r\n",
        "#encoder lstm 1\r\n",
        "encoder_lstm1 = LSTM(latent_dim,return_sequences=True,return_state=True,dropout=0.4,recurrent_dropout=0.4)\r\n",
        "encoder_output1, state_h1, state_c1 = encoder_lstm1(enc_emb)\r\n",
        "\r\n",
        "#encoder lstm 2\r\n",
        "encoder_lstm2 = LSTM(latent_dim,return_sequences=True,return_state=True,dropout=0.4,recurrent_dropout=0.4)\r\n",
        "encoder_output2, state_h2, state_c2 = encoder_lstm2(encoder_output1)\r\n",
        "\r\n",
        "#encoder lstm 3\r\n",
        "encoder_lstm3=LSTM(latent_dim, return_state=True, return_sequences=True,dropout=0.4,recurrent_dropout=0.4)\r\n",
        "encoder_outputs, state_h, state_c= encoder_lstm3(encoder_output2)\r\n",
        "\r\n",
        "# Set up the decoder, using `encoder_states` as initial state.\r\n",
        "decoder_inputs = Input(shape=(None,))\r\n",
        "\r\n",
        "#embedding layer\r\n",
        "dec_emb_layer = Embedding(y_voc, embedding_dim,trainable=True)\r\n",
        "dec_emb = dec_emb_layer(decoder_inputs)\r\n",
        "\r\n",
        "decoder_lstm = LSTM(latent_dim, return_sequences=True, return_state=True,dropout=0.4,recurrent_dropout=0.2)\r\n",
        "decoder_outputs,decoder_fwd_state, decoder_back_state = decoder_lstm(dec_emb,initial_state=[state_h, state_c])\r\n",
        "\r\n",
        "#dense layer\r\n",
        "decoder_dense =  TimeDistributed(Dense(y_voc, activation='softmax'))\r\n",
        "decoder_outputs = decoder_dense(decoder_outputs)\r\n"
      ],
      "execution_count": 32,
      "outputs": [
        {
          "output_type": "stream",
          "text": [
            "WARNING:tensorflow:Layer lstm will not use cuDNN kernel since it doesn't meet the cuDNN kernel criteria. It will use generic GPU kernel as fallback when running on GPU\n",
            "WARNING:tensorflow:Layer lstm_1 will not use cuDNN kernel since it doesn't meet the cuDNN kernel criteria. It will use generic GPU kernel as fallback when running on GPU\n",
            "WARNING:tensorflow:Layer lstm_2 will not use cuDNN kernel since it doesn't meet the cuDNN kernel criteria. It will use generic GPU kernel as fallback when running on GPU\n",
            "WARNING:tensorflow:Layer lstm_3 will not use cuDNN kernel since it doesn't meet the cuDNN kernel criteria. It will use generic GPU kernel as fallback when running on GPU\n"
          ],
          "name": "stdout"
        }
      ]
    },
    {
      "cell_type": "code",
      "metadata": {
        "id": "S7jHFGXHrV9A",
        "colab": {
          "base_uri": "https://localhost:8080/"
        },
        "outputId": "03fc5cec-e173-4de7-f58b-67bb0b751a9e"
      },
      "source": [
        "# Define the model \r\n",
        "model = Model([encoder_inputs, decoder_inputs], decoder_outputs)\r\n",
        "\r\n",
        "model.summary()"
      ],
      "execution_count": 33,
      "outputs": [
        {
          "output_type": "stream",
          "text": [
            "Model: \"model\"\n",
            "__________________________________________________________________________________________________\n",
            "Layer (type)                    Output Shape         Param #     Connected to                     \n",
            "==================================================================================================\n",
            "input_1 (InputLayer)            [(None, 30)]         0                                            \n",
            "__________________________________________________________________________________________________\n",
            "embedding (Embedding)           (None, 30, 100)      841500      input_1[0][0]                    \n",
            "__________________________________________________________________________________________________\n",
            "lstm (LSTM)                     [(None, 30, 300), (N 481200      embedding[0][0]                  \n",
            "__________________________________________________________________________________________________\n",
            "input_2 (InputLayer)            [(None, None)]       0                                            \n",
            "__________________________________________________________________________________________________\n",
            "lstm_1 (LSTM)                   [(None, 30, 300), (N 721200      lstm[0][0]                       \n",
            "__________________________________________________________________________________________________\n",
            "embedding_1 (Embedding)         (None, None, 100)    199900      input_2[0][0]                    \n",
            "__________________________________________________________________________________________________\n",
            "lstm_2 (LSTM)                   [(None, 30, 300), (N 721200      lstm_1[0][0]                     \n",
            "__________________________________________________________________________________________________\n",
            "lstm_3 (LSTM)                   [(None, None, 300),  481200      embedding_1[0][0]                \n",
            "                                                                 lstm_2[0][1]                     \n",
            "                                                                 lstm_2[0][2]                     \n",
            "__________________________________________________________________________________________________\n",
            "time_distributed (TimeDistribut (None, None, 1999)   601699      lstm_3[0][0]                     \n",
            "==================================================================================================\n",
            "Total params: 4,047,899\n",
            "Trainable params: 4,047,899\n",
            "Non-trainable params: 0\n",
            "__________________________________________________________________________________________________\n"
          ],
          "name": "stdout"
        }
      ]
    },
    {
      "cell_type": "markdown",
      "metadata": {
        "id": "GXuCvFhcagx3"
      },
      "source": [
        "I am using sparse categorical cross-entropy as the loss function since it converts the integer sequence to a one-hot vector on the fly. This overcomes any memory issues."
      ]
    },
    {
      "cell_type": "code",
      "metadata": {
        "id": "-9HuTuBfZDAk"
      },
      "source": [
        "model.compile(optimizer='rmsprop',loss='sparse_categorical_crossentropy')"
      ],
      "execution_count": 34,
      "outputs": []
    },
    {
      "cell_type": "markdown",
      "metadata": {
        "id": "KSFRJvPza8fJ"
      },
      "source": [
        "monitoring the validation loss (val_loss). Our model will stop training once the validation loss increases:"
      ]
    },
    {
      "cell_type": "code",
      "metadata": {
        "id": "uUN3zzCta7Bl"
      },
      "source": [
        "\r\n",
        "es = EarlyStopping(monitor='val_loss', mode='min', verbose=1,patience=2)"
      ],
      "execution_count": 35,
      "outputs": []
    },
    {
      "cell_type": "markdown",
      "metadata": {
        "id": "4HUCL3-CbPSx"
      },
      "source": [
        "\r\n",
        "We’ll train the model on a batch size of 128 and validate it on the holdout set (which is 10% of our dataset):"
      ]
    },
    {
      "cell_type": "code",
      "metadata": {
        "colab": {
          "base_uri": "https://localhost:8080/"
        },
        "id": "KvM841igbAQX",
        "outputId": "95698cf6-d651-4b94-e49a-a7c72afb2708"
      },
      "source": [
        "history=model.fit([x_tr,y_tr[:,:-1]], y_tr.reshape(y_tr.shape[0],y_tr.shape[1], 1)[:,1:] ,epochs=50,callbacks=[es],batch_size=128, validation_data=([x_val,y_val[:,:-1]], y_val.reshape(y_val.shape[0],y_val.shape[1], 1)[:,1:]))"
      ],
      "execution_count": 36,
      "outputs": [
        {
          "output_type": "stream",
          "text": [
            "Epoch 1/50\n",
            "323/323 [==============================] - 138s 402ms/step - loss: 3.2172 - val_loss: 2.6027\n",
            "Epoch 2/50\n",
            "323/323 [==============================] - 132s 408ms/step - loss: 2.5703 - val_loss: 2.4246\n",
            "Epoch 3/50\n",
            "323/323 [==============================] - 135s 417ms/step - loss: 2.4205 - val_loss: 2.3045\n",
            "Epoch 4/50\n",
            "323/323 [==============================] - 133s 411ms/step - loss: 2.3226 - val_loss: 2.2349\n",
            "Epoch 5/50\n",
            "323/323 [==============================] - 129s 401ms/step - loss: 2.2316 - val_loss: 2.1815\n",
            "Epoch 6/50\n",
            "323/323 [==============================] - 129s 398ms/step - loss: 2.1702 - val_loss: 2.1482\n",
            "Epoch 7/50\n",
            "323/323 [==============================] - 132s 409ms/step - loss: 2.1282 - val_loss: 2.1111\n",
            "Epoch 8/50\n",
            "323/323 [==============================] - 132s 409ms/step - loss: 2.0698 - val_loss: 2.0954\n",
            "Epoch 9/50\n",
            "323/323 [==============================] - 129s 400ms/step - loss: 2.0491 - val_loss: 2.0811\n",
            "Epoch 10/50\n",
            "323/323 [==============================] - 129s 399ms/step - loss: 2.0050 - val_loss: 2.0614\n",
            "Epoch 11/50\n",
            "323/323 [==============================] - 128s 397ms/step - loss: 1.9602 - val_loss: 2.0581\n",
            "Epoch 12/50\n",
            "323/323 [==============================] - 132s 408ms/step - loss: 1.9361 - val_loss: 2.0399\n",
            "Epoch 13/50\n",
            "323/323 [==============================] - 129s 401ms/step - loss: 1.9055 - val_loss: 2.0332\n",
            "Epoch 14/50\n",
            "323/323 [==============================] - 128s 397ms/step - loss: 1.8867 - val_loss: 2.0309\n",
            "Epoch 15/50\n",
            "323/323 [==============================] - 134s 415ms/step - loss: 1.8623 - val_loss: 2.0275\n",
            "Epoch 16/50\n",
            "323/323 [==============================] - 132s 410ms/step - loss: 1.8293 - val_loss: 2.0219\n",
            "Epoch 17/50\n",
            "323/323 [==============================] - 131s 407ms/step - loss: 1.7990 - val_loss: 2.0223\n",
            "Epoch 18/50\n",
            "323/323 [==============================] - 133s 411ms/step - loss: 1.7758 - val_loss: 2.0266\n",
            "Epoch 00018: early stopping\n"
          ],
          "name": "stdout"
        }
      ]
    },
    {
      "cell_type": "code",
      "metadata": {
        "id": "d4sH-pRtbb-b",
        "colab": {
          "base_uri": "https://localhost:8080/",
          "height": 265
        },
        "outputId": "d801f16d-86af-4f36-db7c-90eabb38162c"
      },
      "source": [
        "from matplotlib import pyplot\r\n",
        "pyplot.plot(history.history['loss'], label='train')\r\n",
        "pyplot.plot(history.history['val_loss'], label='test')\r\n",
        "pyplot.legend()\r\n",
        "pyplot.show()"
      ],
      "execution_count": 37,
      "outputs": [
        {
          "output_type": "display_data",
          "data": {
            "image/png": "[encoded data removed]",
            "text/plain": [
              "<Figure size 432x288 with 1 Axes>"
            ]
          },
          "metadata": {
            "tags": [],
            "needs_background": "light"
          }
        }
      ]
    },
    {
      "cell_type": "markdown",
      "metadata": {
        "id": "44gpbJ6UUE9C"
      },
      "source": [
        "Next, let’s build the dictionary to convert the index to word for target and source vocabulary"
      ]
    },
    {
      "cell_type": "code",
      "metadata": {
        "id": "D-zrgRkeUGc-"
      },
      "source": [
        "reverse_target_word_index=y_tokenizer.index_word\r\n",
        "reverse_source_word_index=x_tokenizer.index_word\r\n",
        "target_word_index=y_tokenizer.word_index"
      ],
      "execution_count": 38,
      "outputs": []
    },
    {
      "cell_type": "markdown",
      "metadata": {
        "id": "5rbDc8fJxxo7"
      },
      "source": [
        "**Inference** "
      ]
    },
    {
      "cell_type": "markdown",
      "metadata": {
        "id": "xARqsbFox_rB"
      },
      "source": [
        "setting up inference for encoders and decoders"
      ]
    },
    {
      "cell_type": "code",
      "metadata": {
        "id": "l4apFUrNUJQ1"
      },
      "source": [
        "# Encode the input sequence to get the feature vector\r\n",
        "encoder_model = Model(inputs=encoder_inputs,outputs=[encoder_outputs, state_h, state_c])\r\n",
        "\r\n",
        "# Decoder setup\r\n",
        "# Below tensors will hold the states of the previous time step\r\n",
        "decoder_state_input_h = Input(shape=(latent_dim,))\r\n",
        "decoder_state_input_c = Input(shape=(latent_dim,))\r\n",
        "decoder_hidden_state_input = Input(shape=(max_text_len,latent_dim))\r\n",
        "\r\n",
        "# Get the embeddings of the decoder sequence\r\n",
        "dec_emb2= dec_emb_layer(decoder_inputs) \r\n",
        "# To predict the next word in the sequence, set the initial states to the states from the previous time step\r\n",
        "decoder_outputs2, state_h2, state_c2 = decoder_lstm(dec_emb2, initial_state=[decoder_state_input_h, decoder_state_input_c])\r\n",
        "\r\n",
        "# A dense softmax layer to generate prob dist. over the target vocabulary\r\n",
        "decoder_outputs2 = decoder_dense(decoder_outputs2) \r\n",
        "\r\n",
        "# Final decoder model\r\n",
        "decoder_model = Model(\r\n",
        "    [decoder_inputs] + [decoder_hidden_state_input,decoder_state_input_h, decoder_state_input_c],\r\n",
        "    [decoder_outputs2] + [state_h2, state_c2])\r\n"
      ],
      "execution_count": 39,
      "outputs": []
    },
    {
      "cell_type": "code",
      "metadata": {
        "id": "GXoc3OuCzHWi"
      },
      "source": [
        "def decode_sequence(input_seq):\r\n",
        "    # Encode the input as state vectors.\r\n",
        "    e_out, e_h, e_c = encoder_model.predict(input_seq)\r\n",
        "    \r\n",
        "    # Generate empty target sequence of length 1.\r\n",
        "    target_seq = np.zeros((1,1))\r\n",
        "    \r\n",
        "    # Populate the first word of target sequence with the start word.\r\n",
        "    target_seq[0, 0] = target_word_index['sostok']\r\n",
        "\r\n",
        "    stop_condition = False\r\n",
        "    decoded_sentence = ''\r\n",
        "    while not stop_condition:\r\n",
        "      \r\n",
        "        output_tokens, h, c = decoder_model.predict([target_seq] + [e_out, e_h, e_c])\r\n",
        "\r\n",
        "        # Sample a token\r\n",
        "        sampled_token_index = np.argmax(output_tokens[0, -1, :])\r\n",
        "        sampled_token = reverse_target_word_index[sampled_token_index]\r\n",
        "        \r\n",
        "        if(sampled_token!='eostok'):\r\n",
        "            decoded_sentence += ' '+sampled_token\r\n",
        "\r\n",
        "        # Exit condition: either hit max length or find stop word.\r\n",
        "        if (sampled_token == 'eostok'  or len(decoded_sentence.split()) >= (max_summary_len-1)):\r\n",
        "            stop_condition = True\r\n",
        "\r\n",
        "        # Update the target sequence (of length 1).\r\n",
        "        target_seq = np.zeros((1,1))\r\n",
        "        target_seq[0, 0] = sampled_token_index\r\n",
        "\r\n",
        "        # Update internal states\r\n",
        "        e_h, e_c = h, c\r\n",
        "\r\n",
        "    return decoded_sentence"
      ],
      "execution_count": 40,
      "outputs": []
    },
    {
      "cell_type": "markdown",
      "metadata": {
        "id": "U443oDnjzQgk"
      },
      "source": [
        "Let us define the functions to convert an integer sequence to a word sequence for summary as well as the reviews:"
      ]
    },
    {
      "cell_type": "code",
      "metadata": {
        "id": "hMWkROBRzKg_"
      },
      "source": [
        "def seq2summary(input_seq):\r\n",
        "    newString=''\r\n",
        "    for i in input_seq:\r\n",
        "        if((i!=0 and i!=target_word_index['sostok']) and i!=target_word_index['eostok']):\r\n",
        "            newString=newString+reverse_target_word_index[i]+' '\r\n",
        "    return newString\r\n",
        "\r\n",
        "def seq2text(input_seq):\r\n",
        "    newString=''\r\n",
        "    for i in input_seq:\r\n",
        "        if(i!=0):\r\n",
        "            newString=newString+reverse_source_word_index[i]+' '\r\n",
        "    return newString"
      ],
      "execution_count": 41,
      "outputs": []
    },
    {
      "cell_type": "markdown",
      "metadata": {
        "id": "NBB-3hXTzaA_"
      },
      "source": [
        "Here are a few summaries generated by the model:"
      ]
    },
    {
      "cell_type": "code",
      "metadata": {
        "colab": {
          "base_uri": "https://localhost:8080/"
        },
        "id": "yYS36ColzV9J",
        "outputId": "b6cad397-9454-4b3d-c96e-43845e4c5564"
      },
      "source": [
        "for i in range(0,100):\r\n",
        "    print(\"Review:\",seq2text(x_tr[i]))\r\n",
        "    print(\"Original summary:\",seq2summary(y_tr[i]))\r\n",
        "    print(\"Predicted summary:\",decode_sequence(x_tr[i].reshape(1,max_text_len)))\r\n",
        "    print(\"\\n\")"
      ],
      "execution_count": 42,
      "outputs": [
        {
          "output_type": "stream",
          "text": [
            "Review: sooooo good addictive know carrot chips fries carrot chips think potato chips vs corn chips trying use either love hate entire family craves \n",
            "Original summary: love these \n",
            "Predicted summary:  love these chips\n",
            "\n",
            "\n",
            "Review: personal scale imho sardines bought tasted repeatedly rated follows taste texture quantity buy enough tasty shipping expensive \n",
            "Original summary: too expensive after shipping \n",
            "Predicted summary:  not bad\n",
            "\n",
            "\n",
            "Review: chips outstanding use place tortilla chips salsa never go back forget fact healthy chips delicious \n",
            "Original summary: unbelievably good \n",
            "Predicted summary:  great chips\n",
            "\n",
            "\n",
            "Review: got pack sale amazon warehouse figured worth trying cheap girlfriend loves things pizza flavored first try said crap little flavor really cannot related pizza worth going price \n",
            "Original summary: not good \n",
            "Predicted summary:  not that good\n",
            "\n",
            "\n",
            "Review: knorr hunter sauce use able buy local supermarket good needed add extra little something meal shipped right away arrived suggested delivery date \n",
            "Original summary: great product and service \n",
            "Predicted summary:  great product\n",
            "\n",
            "\n",
            "Review: product wonderful however package contents bent arrived suspect lack lack air packets packaging one almost bent point puncture \n",
            "Original summary: great product poor shipping package \n",
            "Predicted summary:  not what was looking for\n",
            "\n",
            "\n",
            "Review: best trail mix ever eaten wish available store near order amazon way goes delicious really takes care sweet tooth crunchy boot love \n",
            "Original summary: sweet and crunchy \n",
            "Predicted summary:  best ever\n",
            "\n",
            "\n",
            "Review: flavor less calories others bit like rice crispy treat layer chocolate lighter tasting bars still protein fiber calcium nice healthy quick snack whole family \n",
            "Original summary: even my yr olds will eat this \n",
            "Predicted summary:  great snack\n",
            "\n",
            "\n",
            "Review: start every morning quick shot hate drinking coffee warmer months gets caffeine fix \n",
            "Original summary: love this stuff \n",
            "Predicted summary:  great taste\n",
            "\n",
            "\n",
            "Review: recently received variety packs popchips delivered work everyone loves tried one flavor delicious next flavor excellent next flavor oh goodness even better gets better better best snack recent memory \n",
            "Original summary: popchips hmm hmm hmm \n",
            "Predicted summary:  delicious\n",
            "\n",
            "\n",
            "Review: great dane prefers greenies treat really likes small ones expensive limit one special greenie week knows get box gets excited \n",
            "Original summary: big little treat \n",
            "Predicted summary:  great treat\n",
            "\n",
            "\n",
            "Review: popchips chip love original best wish would make sodium free though \n",
            "Original summary: my guilty pleasure \n",
            "Predicted summary:  love these chips\n",
            "\n",
            "\n",
            "Review: college student great light snack classes taste great \n",
            "Original summary: great \n",
            "Predicted summary:  great snack\n",
            "\n",
            "\n",
            "Review: sometimes make horseradish mayo ready anytime adds zest love sandwiches happy product \n",
            "Original summary: just what hoped for \n",
            "Predicted summary:  great\n",
            "\n",
            "\n",
            "Review: impressed quickly product arrived made purchase friend loved thank \n",
            "Original summary: shipping \n",
            "Predicted summary:  great\n",
            "\n",
            "\n",
            "Review: really enjoy taste coffee price great value th cup bit different used without problem great buy \n",
            "Original summary: great coffee \n",
            "Predicted summary:  great coffee\n",
            "\n",
            "\n",
            "Review: best tea love brews aroma house amazing tea tastes great \n",
            "Original summary: good earth tea outstanding \n",
            "Predicted summary:  best tea ever\n",
            "\n",
            "\n",
            "Review: coffe much bitter tasted like chemicals save money flavor regular clock delicious \n",
            "Original summary: bitter \n",
            "Predicted summary:  not my favorite\n",
            "\n",
            "\n",
            "Review: package well contents small product get much purchase probably something pass even milka lover \n",
            "Original summary: the was the mini \n",
            "Predicted summary:  good but not the best\n",
            "\n",
            "\n",
            "Review: item longer stores glad found amazon \n",
            "Original summary: mrs dash \n",
            "Predicted summary:  great product\n",
            "\n",
            "\n",
            "Review: kitchens india curry chicken paste great taste makes feel like eating authentic indian dish instructions easy follow \n",
            "Original summary: curry chicken paste \n",
            "Predicted summary:  great for the price\n",
            "\n",
            "\n",
            "Review: best cup hot cocoa market bar none would without house especially winter months coming \n",
            "Original summary: great \n",
            "Predicted summary:  great hot chocolate\n",
            "\n",
            "\n",
            "Review: never drank hibiscus tea drink daily happy product expect order big bag lasts time regard value good hope helps \n",
            "Original summary: great tea \n",
            "Predicted summary:  tea\n",
            "\n",
            "\n",
            "Review: received bottles dr brown ray soda great condition good get ny \n",
            "Original summary: dr brown \n",
            "Predicted summary:  very good\n",
            "\n",
            "\n",
            "Review: great product affordable price find would recommend kit consumers source reliable wheatgrass easy grow satisfied purchase thank forever \n",
            "Original summary: great product \n",
            "Predicted summary:  great product\n",
            "\n",
            "\n",
            "Review: title say puppy food adult food oatmeal puppy stomachs good food though would recommend corn good \n",
            "Original summary: this is puppy food \n",
            "Predicted summary:  my cats love it\n",
            "\n",
            "\n",
            "Review: bought sampler pack expected differnt iced tea like reason bought one want try kinds iced tea find perfect one check package got iced cups instead \n",
            "Original summary: only tea cups \n",
            "Predicted summary:  very good\n",
            "\n",
            "\n",
            "Review: taste awesome esp salt pepper one love really healthy packaging really good \n",
            "Original summary: amazing \n",
            "Predicted summary:  great for\n",
            "\n",
            "\n",
            "Review: could find bigelow spiced chai really liked flavor substitute good one recommended like specialty teas reasonable price \n",
            "Original summary: like this tea \n",
            "Predicted summary:  best tea ever\n",
            "\n",
            "\n",
            "Review: tried energy drinks hour drink give headaches next day taste okay bearable price expensive buy convenient stores cheaper via amazon \n",
            "Original summary: no next day \n",
            "Predicted summary:  great taste\n",
            "\n",
            "\n",
            "Review: one must know dieter tea helps mostly moving bowels along careful first unpleasant \n",
            "Original summary: tastes good works great \n",
            "Predicted summary:  good stuff\n",
            "\n",
            "\n",
            "Review: flavor good guests served thought also \n",
            "Original summary: good flavored coffee \n",
            "Predicted summary:  good jerky\n",
            "\n",
            "\n",
            "Review: wish zero star rate product chocolate completely melt disgusting cant tell outside looks normal time return product never shop amazon chocolate \n",
            "Original summary: completely melt \n",
            "Predicted summary:  horrible\n",
            "\n",
            "\n",
            "Review: love pirate booty stuff addictive since cannot find town order bulk guess matter eat bulk light non greasy flavor grand much cheese little right love \n",
            "Original summary: love booty \n",
            "Predicted summary:  love it\n",
            "\n",
            "\n",
            "Review: excellent product use almost every night used available costco longer handle would recommend anyone \n",
            "Original summary: great salad dressing \n",
            "Predicted summary:  great product\n",
            "\n",
            "\n",
            "Review: provide stay paper one paper always falls area would wind wind \n",
            "Original summary: bit disappointing \n",
            "Predicted summary:  not good\n",
            "\n",
            "\n",
            "Review: much better thought would price true value chocolate outstanding shipping well enjoyed much ordered holiday gifts \n",
            "Original summary: move over \n",
            "Predicted summary:  great gift\n",
            "\n",
            "\n",
            "Review: unpleasant taste would say bitter intense strong taste lacked depth makes sense wish could fan would choice would make future positive label cute \n",
            "Original summary: sorry not fan \n",
            "Predicted summary:  not bad\n",
            "\n",
            "\n",
            "Review: good coffee plenty flavor like flavored coffees mild flavor grind add equal amounts regular coffee makes real nice subtle hazelnut flavored coffee \n",
            "Original summary: great flavor \n",
            "Predicted summary:  good coffee\n",
            "\n",
            "\n",
            "Review: excellent product low calorie tasty filling pleasure eat stay crisp enjoy yogurt blueberries good breakfast monthly shipment via amazon \n",
            "Original summary: good stuff \n",
            "Predicted summary:  delicious\n",
            "\n",
            "\n",
            "Review: metromint water genius chocolatemint even curbs chocolate craving ever slightly refreshing right shelf refrigeration needed \n",
            "Original summary: refreshing and the chocolate \n",
            "Predicted summary:  best hot chocolate ever\n",
            "\n",
            "\n",
            "Review: alittle hesitant first love everyone offered cup also love continue purchase long price remains almost unbeatable \n",
            "Original summary: sold \n",
            "Predicted summary:  great product\n",
            "\n",
            "\n",
            "Review: finding pod coffee consistent comes taste strength ready back old find ground drip coffee brewer \n",
            "Original summary: columbian organic \n",
            "Predicted summary:  great coffee\n",
            "\n",
            "\n",
            "Review: closest real thing find great dip coffee \n",
            "Original summary: lish \n",
            "Predicted summary:  best coffee ever\n",
            "\n",
            "\n",
            "Review: tried enough breakfast cereals get tired almost week product exception taste flakes sweet chocolate chips also pretty fine every morning product let \n",
            "Original summary: one of my favorites \n",
            "Predicted summary:  good for the kids\n",
            "\n",
            "\n",
            "Review: like taste inconsistent texture careful microwaving part even hard get consistent results also could little spicier taste \n",
            "Original summary: not bad but hard to get right \n",
            "Predicted summary:  not bad\n",
            "\n",
            "\n",
            "Review: best tastiest mix wonderful self love home made hamburgers instead lettuce \n",
            "Original summary: part mix \n",
            "Predicted summary:  best ever\n",
            "\n",
            "\n",
            "Review: almost box grocery stores good deal approximately box definitely better buying bulk \n",
            "Original summary: good deal \n",
            "Predicted summary:  great product\n",
            "\n",
            "\n",
            "Review: love cartons refrigerated actually taste better room temperature cold flavor chocolate seems strong somehow cold \n",
            "Original summary: chocolate flavor is too strong \n",
            "Predicted summary:  not good\n",
            "\n",
            "\n",
            "Review: lean treats given us vet used dog really like would recommend \n",
            "Original summary: would recommend \n",
            "Predicted summary:  dogs love it\n",
            "\n",
            "\n",
            "Review: sampled number different kup blends one seems closest wife describes smokey flavor overall great cup coffee prefer less bold taste definite stars \n",
            "Original summary: great smokey flavor \n",
            "Predicted summary:  great coffee\n",
            "\n",
            "\n",
            "Review: bags broken unusable however eventually found good bag brewed tea dreadful tons floating powder really sticks throat flavor bitter nothing like ever chinese restaurant truly awful \n",
            "Original summary: awful in every way \n",
            "Predicted summary:  not what was looking for\n",
            "\n",
            "\n",
            "Review: agree reviewers recently bought keurig model costco tried caribou blend found sitting couch sipping nectar literally saying loud one particular man good coffee like mine third teaspoon splenda definitely buying \n",
            "Original summary: man this is good coffee \n",
            "Predicted summary:  best cup coffee ever\n",
            "\n",
            "\n",
            "Review: two dogs adore greenies seemed best place price found online quickly shipped \n",
            "Original summary: great product great price \n",
            "Predicted summary:  greenies\n",
            "\n",
            "\n",
            "Review: dog food dog eat favorite good dog food \n",
            "Original summary: this dog food is or good \n",
            "Predicted summary:  my dog loves it\n",
            "\n",
            "\n",
            "Review: pop chips rock better baked fried crunchy salty cal could ask usually buy box month definitely worth weight watchers favorite snacks \n",
            "Original summary: gotta love em \n",
            "Predicted summary:  great chips\n",
            "\n",
            "\n",
            "Review: mom wheat allergy unable find progresso mushroom soup stores looked could order free shipping received case days looking forward cooking recipes \n",
            "Original summary: soup for wheat allergy \n",
            "Predicted summary:  great product\n",
            "\n",
            "\n",
            "Review: delivered really fast comparing others bought two packs flawless really delicious good snack recommand product \n",
            "Original summary: it is really delicious \n",
            "Predicted summary:  delicious\n",
            "\n",
            "\n",
            "Review: yummy vanilla icing dip pocky plenty icing snack tastes soo yummy reminds childhood favorite container looks small plenty pocky icing satisfy \n",
            "Original summary: so good they me of \n",
            "Predicted summary:  delicious\n",
            "\n",
            "\n",
            "Review: bars best go bar whether quick breakfast guilt free snack tasty filling extra protein bonus try become craving quickly \n",
            "Original summary: delicious and multi purpose \n",
            "Predicted summary:  delicious\n",
            "\n",
            "\n",
            "Review: using rice twice several months cleaning pantry saw bugs crawling around rice jar tightly sealed nothing else pantry bugs conclusion eggs rice begin gross \n",
            "Original summary: bugs in it \n",
            "Predicted summary:  great product but not the price\n",
            "\n",
            "\n",
            "Review: impressed flavors syrups worth premium price tag sure \n",
            "Original summary: mediocre at best \n",
            "Predicted summary:  great product\n",
            "\n",
            "\n",
            "Review: dogs love licking treat feel guilty many treat excellent practice commands \n",
            "Original summary: they love it \n",
            "Predicted summary:  great treat\n",
            "\n",
            "\n",
            "Review: hard find cups tea drinkers really happy find wish cost much \n",
            "Original summary: perfect for tea lovers \n",
            "Predicted summary:  best tea ever\n",
            "\n",
            "\n",
            "Review: wow much say cereal stores way cheaper price love since child still eat day got love em \n",
            "Original summary: got real lucky \n",
            "Predicted summary:  great for\n",
            "\n",
            "\n",
            "Review: pricey essentially small bag hard crumbs maybe dog spoiled treats like third class treats definitely bottom doggie treat often simply walk away glad people like buying \n",
            "Original summary: waste of money \n",
            "Predicted summary:  dog treats\n",
            "\n",
            "\n",
            "Review: flavor lasts one minute made china world famous careful attention quality control \n",
            "Original summary: do not buy \n",
            "Predicted summary:  not good\n",
            "\n",
            "\n",
            "Review: brought back costa rica family think probably price little expensive costa rica going way would recommend coffee next best thing although may amazing coffee ever tasted good well worth price \n",
            "Original summary: same price in costa \n",
            "Predicted summary:  great coffee\n",
            "\n",
            "\n",
            "Review: stevia extract arrived quickly much cheaper get local health food store even shipping good buy \n",
            "Original summary: great stuff fast service \n",
            "Predicted summary:  great product\n",
            "\n",
            "\n",
            "Review: singles lots black tea breakfast tea celestial seasons tea much variety hoped \n",
            "Original summary: strange mix \n",
            "Predicted summary:  tea\n",
            "\n",
            "\n",
            "Review: aggressive chewers many products safe enough leave floor ones safe dinosaurs favorites ones chew cleanest teeth always floor \n",
            "Original summary: great safe chew toy the love \n",
            "Predicted summary:  my dog loves these\n",
            "\n",
            "\n",
            "Review: like strong coffee coffee rated found weak sickening taste \n",
            "Original summary: disapointed \n",
            "Predicted summary:  weak coffee\n",
            "\n",
            "\n",
            "Review: never cereal figured chocolate peanut butter combination impossible screw thing bland sweet bought pack set amazon maybe second box began appreciate definitely acquired taste would buy \n",
            "Original summary: an taste \n",
            "Predicted summary:  not bad\n",
            "\n",
            "\n",
            "Review: used successfully snack gluten allergic son good tasting cereal one buying allergies mind aware though warning product may contain peanuts tree nuts soy \n",
            "Original summary: nice gluten free choice \n",
            "Predicted summary:  good but not the best\n",
            "\n",
            "\n",
            "Review: great still mine wrapped never seem finish cant exactly suck since hurts stick entire thing mouth licked point tongue started little \n",
            "Original summary: multi \n",
            "Predicted summary:  not the best\n",
            "\n",
            "\n",
            "Review: love resealable package mixture contents spot definitely going deliveries \n",
            "Original summary: delicious \n",
            "Predicted summary:  great\n",
            "\n",
            "\n",
            "Review: compared brand tomato product less sodium natural ingredients excellent taste look reduced sodium tomatoes significantly better \n",
            "Original summary: superior tomato product \n",
            "Predicted summary:  good for gluten free\n",
            "\n",
            "\n",
            "Review: wine gums basically another variety gummi candy good consistancy different flavors family really enjoyed however favorite gummis still haribo super cola \n",
            "Original summary: wine gums are \n",
            "Predicted summary:  great candy\n",
            "\n",
            "\n",
            "Review: picky coffee drinker really like house blend tully rich smooth taste easy taste buds stomach regular purchase \n",
            "Original summary: best house blend \n",
            "Predicted summary:  great coffee\n",
            "\n",
            "\n",
            "Review: wonderful smooth green tea nice hint mint sweetening required excellent warm summers day day matter \n",
            "Original summary: love it \n",
            "Predicted summary:  best tea ever\n",
            "\n",
            "\n",
            "Review: bought friend family great loved gift family time \n",
            "Original summary: great gift \n",
            "Predicted summary:  great gift\n",
            "\n",
            "\n",
            "Review: doctor kracker nutty taste stay crisp plastic cookie jar satisfyingly crunchy good cheese many carbs \n",
            "Original summary: yummy \n",
            "Predicted summary:  great snack\n",
            "\n",
            "\n",
            "Review: drink cups day verona italian french roast coffee wanted try lower acid version brand coffee smells tastes like vinegar totally unpalatable better drinking water acid coffee bothers \n",
            "Original summary: single worst coffee ever \n",
            "Predicted summary:  bitter weak\n",
            "\n",
            "\n",
            "Review: know cooking throw hand garden hundreds coming \n",
            "Original summary: great seeds \n",
            "Predicted summary:  great\n",
            "\n",
            "\n",
            "Review: pill pockets thing get dog take medicine would suggest larger capsules save money want use half less pill pocket easily mash together come apart make size \n",
            "Original summary: pill pockets for picky dog \n",
            "Predicted summary:  dogs love it\n",
            "\n",
            "\n",
            "Review: looking years glad finally found like remembered childhood \n",
            "Original summary: just like remembered \n",
            "Predicted summary:  the best\n",
            "\n",
            "\n",
            "Review: product okay use topping appetizer stand small eggs middle road flavor right choice stand alone \n",
            "Original summary: just okay \n",
            "Predicted summary:  great product\n",
            "\n",
            "\n",
            "Review: green mountain coffee keurig breakfast blend count cups love breakfast blend tried one us \n",
            "Original summary: we love it \n",
            "Predicted summary:  good coffee\n",
            "\n",
            "\n",
            "Review: product good goes long way quite good one dd good product less \n",
            "Original summary: very good \n",
            "Predicted summary:  good stuff\n",
            "\n",
            "\n",
            "Review: first want make per bottle son went camping took us two day neither one us got bite bug spray feel smell either nice using \n",
            "Original summary: awesome \n",
            "Predicted summary:  great product\n",
            "\n",
            "\n",
            "Review: find cat food high fiber one cats issues vet said needed higher fiber food food problems longer also working cat used get crystals eating food problems \n",
            "Original summary: helped kitty \n",
            "Predicted summary:  cat food\n",
            "\n",
            "\n",
            "Review: neither cats least bit impressed product flakes arrive scheduled remain unused except small amounts presented cats various ways hopes would find flakes appealing joy \n",
            "Original summary: tuna flakes cat treat \n",
            "Predicted summary:  my cats will not eat it\n",
            "\n",
            "\n",
            "Review: love medium full flavored roast smooth taste bitter acidic taste excellent coffee good value also try timothy kona good also \n",
            "Original summary: wonderful coffee \n",
            "Predicted summary:  great coffee\n",
            "\n",
            "\n",
            "Review: cracked open cats went town good ingredients cats occasional wet stuff makes happy makes happy \n",
            "Original summary: my cats love it \n",
            "Predicted summary:  cat food\n",
            "\n",
            "\n",
            "Review: eating granola vanilla soy milk absolutely delicious sweet wonderful dark chocolate feel like eating healthy breakfast even though definately purchasing granola loved \n",
            "Original summary: wonderful \n",
            "Predicted summary:  delicious\n",
            "\n",
            "\n",
            "Review: wonderful soft nuggets baby ginger enough spice enough sugar feel like treat much love em \n",
            "Original summary: love this \n",
            "Predicted summary:  great for\n",
            "\n",
            "\n",
            "Review: son gets bag chips pantry every time stops visit hide us ingredients simple nothing questionable flavor amazing great chip \n",
            "Original summary: they must be great \n",
            "Predicted summary:  delicious\n",
            "\n",
            "\n",
            "Review: american products mostly sugar little chocolate exact opposite mostly chocolate sugar yet still pleasingly sweet \n",
            "Original summary: definitely better than american store bought \n",
            "Predicted summary:  not good\n",
            "\n",
            "\n",
            "Review: big fan package potatoes kids love thought would give try say pretty good buying shipping fast \n",
            "Original summary: potatoes \n",
            "Predicted summary:  good but not great\n",
            "\n",
            "\n",
            "Review: never tried peanuts take plunge delicious get flavors set regular salted redskins smoked cajun \n",
            "Original summary: love these peanuts \n",
            "Predicted summary:  delicious\n",
            "\n",
            "\n"
          ],
          "name": "stdout"
        }
      ]
    },
    {
      "cell_type": "markdown",
      "metadata": {
        "id": "5UbRRUEtsFCd"
      },
      "source": [
        "Even though the actual summary and the summary generated by the model do not match in terms of words, both of them convey same meaning. The model is able to generate a legible summary based on the context present in the text.\r\n",
        "\r\n",
        "**Improvements in Model performance**\r\n",
        "* Attention layer can be added before the dense layer.\r\n",
        "* Bidirectional LSTM,which results in better context vector\r\n"
      ]
    },
    {
      "cell_type": "code",
      "metadata": {
        "id": "BClmFXapzkha"
      },
      "source": [
        ""
      ],
      "execution_count": 42,
      "outputs": []
    }
  ]
}